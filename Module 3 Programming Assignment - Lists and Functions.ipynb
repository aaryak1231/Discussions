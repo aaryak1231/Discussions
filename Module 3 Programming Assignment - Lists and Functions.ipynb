{
 "cells": [
  {
   "cell_type": "code",
   "execution_count": 11,
   "id": "c62ba591-18cb-47dc-8d42-e048d18e0038",
   "metadata": {},
   "outputs": [
    {
     "data": {
      "text/plain": [
       "['mozzarella', 'cindrella', 'salmonella']"
      ]
     },
     "execution_count": 11,
     "metadata": {},
     "output_type": "execute_result"
    }
   ],
   "source": [
    " 7.4\n",
    "\n",
    "things = [\"mozzarella\", \"cindrella\", \"salmonella\"]\n",
    "things"
   ]
  },
  {
   "cell_type": "code",
   "execution_count": 14,
   "id": "3552b248-c203-406d-a27d-a79668e52688",
   "metadata": {},
   "outputs": [
    {
     "name": "stdout",
     "output_type": "stream",
     "text": [
      "['mozzarella', 'Cindrella', 'salmonella']\n"
     ]
    }
   ],
   "source": [
    "7.5\n",
    "\n",
    "things = [\"mozzarella\", \"cindrella\", \"salmonella\"]\n",
    "\n",
    "things[1] = things[1].capitalize()\n",
    "print(things)\n",
    "\n",
    "#yes, the elements changed"
   ]
  },
  {
   "cell_type": "code",
   "execution_count": 3,
   "id": "f0a34325-9b77-40a9-aa81-e524b3e5d3de",
   "metadata": {},
   "outputs": [
    {
     "name": "stdout",
     "output_type": "stream",
     "text": [
      "['Mozzarella', 'cindrella', 'salmonella']\n"
     ]
    }
   ],
   "source": [
    "7.6\n",
    "\n",
    "things = [\"mozzarella\", \"cindrella\", \"salmonella\"]\n",
    "\n",
    "things[0] = things[0].capitalize()\n",
    "print(things)"
   ]
  },
  {
   "cell_type": "code",
   "execution_count": 4,
   "id": "b401c025-0615-446e-b8de-23bd37422ab5",
   "metadata": {},
   "outputs": [
    {
     "name": "stdout",
     "output_type": "stream",
     "text": [
      "['mozzarella', 'cindrella']\n"
     ]
    }
   ],
   "source": [
    "7.7\n",
    "\n",
    "things = [\"mozzarella\", \"cindrella\", \"salmonella\"]\n",
    "\n",
    "del things[2]\n",
    "print (things)"
   ]
  },
  {
   "cell_type": "code",
   "execution_count": 12,
   "id": "5cc1f1fa-583e-4014-b5d2-2c37b452eddb",
   "metadata": {},
   "outputs": [],
   "source": [
    "9.1\n",
    "\n",
    "def good():\n",
    "    return [\"Harry\", \"Ron\", \"Hermione\"]"
   ]
  },
  {
   "cell_type": "code",
   "execution_count": 10,
   "id": "a372bf5e-ca66-42c2-a86b-25aa27bfdee3",
   "metadata": {},
   "outputs": [
    {
     "name": "stdout",
     "output_type": "stream",
     "text": [
      "5\n"
     ]
    }
   ],
   "source": [
    "9.2\n",
    "\n",
    "def get_odds():\n",
    "    for number in range(10):\n",
    "        if number % 2 !=0:\n",
    "            yield number\n",
    "count = 0\n",
    "for odd in get_odds():\n",
    "    count += 1\n",
    "    if count == 3:\n",
    "        print(odd)"
   ]
  },
  {
   "cell_type": "code",
   "execution_count": null,
   "id": "f1c43aaa-8820-45db-bd6e-ebfa78426d94",
   "metadata": {},
   "outputs": [],
   "source": []
  }
 ],
 "metadata": {
  "kernelspec": {
   "display_name": "Python [conda env:base] *",
   "language": "python",
   "name": "conda-base-py"
  },
  "language_info": {
   "codemirror_mode": {
    "name": "ipython",
    "version": 3
   },
   "file_extension": ".py",
   "mimetype": "text/x-python",
   "name": "python",
   "nbconvert_exporter": "python",
   "pygments_lexer": "ipython3",
   "version": "3.13.5"
  }
 },
 "nbformat": 4,
 "nbformat_minor": 5
}
